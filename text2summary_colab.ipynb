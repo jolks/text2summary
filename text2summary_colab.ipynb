{
 "cells": [
  {
   "cell_type": "code",
   "execution_count": 1,
   "metadata": {
    "colab": {
     "base_uri": "https://localhost:8080/",
     "height": 6021
    },
    "colab_type": "code",
    "id": "luZ-M1cp3Fat",
    "outputId": "cae1c2d8-b710-46e5-cea4-167471085b40"
   },
   "outputs": [
    {
     "name": "stdout",
     "output_type": "stream",
     "text": [
      "Collecting ktext\n",
      "  Downloading https://files.pythonhosted.org/packages/c9/f0/9541f7d7c45acebb761474dc54e14aaa44963f7dbf4a4651fd21016dde78/ktext-0.33.tar.gz\n",
      "Requirement already satisfied: numpy in /usr/local/lib/python3.6/dist-packages (from ktext) (1.14.3)\n",
      "Requirement already satisfied: scipy in /usr/local/lib/python3.6/dist-packages (from ktext) (1.0.1)\n",
      "Requirement already satisfied: six in /usr/local/lib/python3.6/dist-packages (from ktext) (1.11.0)\n",
      "Requirement already satisfied: pandas>=0.21.0 in /usr/local/lib/python3.6/dist-packages (from ktext) (0.22.0)\n",
      "Requirement already satisfied: pyyaml in /usr/local/lib/python3.6/dist-packages (from ktext) (3.12)\n",
      "Collecting pathos (from ktext)\n",
      "\u001b[?25l  Downloading https://files.pythonhosted.org/packages/ca/83/6937d36e68f6a748f57927cc115d0b8cc73a0167637cae0cbd8ee9438baa/pathos-0.2.2.1.tar.gz (161kB)\n",
      "\u001b[K    100% |################################| 163kB 8.6MB/s ta 0:00:01\n",
      "\u001b[?25hCollecting msgpack (from ktext)\n",
      "\u001b[?25l  Downloading https://files.pythonhosted.org/packages/22/4e/dcf124fd97e5f5611123d6ad9f40ffd6eb979d1efdc1049e28a795672fcd/msgpack-0.5.6-cp36-cp36m-manylinux1_x86_64.whl (315kB)\n",
      "\u001b[K    100% |################################| 317kB 10.6MB/s ta 0:00:01\n",
      "\u001b[?25hCollecting msgpack_numpy (from ktext)\n",
      "  Downloading https://files.pythonhosted.org/packages/84/09/fc890664a7a1dd0a88f46c93fb9340d0a27a69e82095a4a54aef2ed94a6d/msgpack_numpy-0.4.3.1-py2.py3-none-any.whl\n",
      "Collecting dask (from ktext)\n",
      "\u001b[?25l  Downloading https://files.pythonhosted.org/packages/0b/48/de8e129a5519aee0645e65e6cce8646d2dde334460592f328528403c6580/dask-0.19.0-py2.py3-none-any.whl (653kB)\n",
      "\u001b[K    100% |################################| 655kB 13.1MB/s ta 0:00:01\n",
      "\u001b[?25hCollecting pyarrow (from ktext)\n",
      "\u001b[?25l  Downloading https://files.pythonhosted.org/packages/c9/b8/076ebd968f3c6d4e9b6e5de696f0b19964a3d4b7dc020fd32db4e868ad74/pyarrow-0.10.0-cp36-cp36m-manylinux1_x86_64.whl (11.6MB)\n",
      "\u001b[K    100% |################################| 11.6MB 4.1MB/s eta 0:00:011\n",
      "\u001b[?25hCollecting more_itertools (from ktext)\n",
      "\u001b[?25l  Downloading https://files.pythonhosted.org/packages/79/b1/eace304ef66bd7d3d8b2f78cc374b73ca03bc53664d78151e9df3b3996cc/more_itertools-4.3.0-py3-none-any.whl (48kB)\n",
      "\u001b[K    100% |################################| 51kB 35.2MB/s ta 0:00:01\n",
      "\u001b[?25hCollecting textacy (from ktext)\n",
      "\u001b[?25l  Downloading https://files.pythonhosted.org/packages/f7/13/77612f4393d9c8a55e53924f13b2cf8b835cbf4a5e69e288613ed2de9eca/textacy-0.6.2-py2.py3-none-any.whl (142kB)\n",
      "\u001b[K    100% |################################| 143kB 56.0MB/s ta 0:00:01\n",
      "\u001b[?25hRequirement already satisfied: keras in /usr/local/lib/python3.6/dist-packages (from ktext) (2.1.6)\n",
      "Requirement already satisfied: pytz>=2011k in /usr/local/lib/python3.6/dist-packages (from pandas>=0.21.0->ktext) (2018.4)\n",
      "Requirement already satisfied: python-dateutil>=2 in /usr/local/lib/python3.6/dist-packages (from pandas>=0.21.0->ktext) (2.7.2)\n",
      "Collecting ppft>=1.6.4.8 (from pathos->ktext)\n",
      "\u001b[?25l  Downloading https://files.pythonhosted.org/packages/0f/39/b08e3d12b9f6ba97b168b17088b849d4887957f57f64cf0ee6a68db35699/ppft-1.6.4.8.tar.gz (60kB)\n",
      "\u001b[K    100% |################################| 61kB 40.6MB/s ta 0:00:01\n",
      "\u001b[?25hCollecting dill>=0.2.8.2 (from pathos->ktext)\n",
      "\u001b[?25l  Downloading https://files.pythonhosted.org/packages/6f/78/8b96476f4ae426db71c6e86a8e6a81407f015b34547e442291cd397b18f3/dill-0.2.8.2.tar.gz (150kB)\n",
      "\u001b[K    100% |################################| 153kB 42.6MB/s ta 0:00:01\n",
      "\u001b[?25hCollecting pox>=0.2.4 (from pathos->ktext)\n",
      "\u001b[?25l  Downloading https://files.pythonhosted.org/packages/7d/a2/aff99902359ee6e59f5a7846b5d0ce52389c17587d80ea68ef63ca6530cc/pox-0.2.4.tar.gz (109kB)\n",
      "\u001b[K    100% |################################| 112kB 38.7MB/s ta 0:00:01\n",
      "\u001b[?25hCollecting multiprocess>=0.70.6.1 (from pathos->ktext)\n",
      "\u001b[?25l  Downloading https://files.pythonhosted.org/packages/7a/ee/b9bf3e171f936743758ef924622d8dd00516c5532b00a1210a09bce68325/multiprocess-0.70.6.1.tar.gz (1.4MB)\n",
      "\u001b[K    100% |################################| 1.4MB 24.3MB/s ta 0:00:01\n",
      "\u001b[?25hCollecting pyemd>=0.3.0 (from textacy->ktext)\n",
      "\u001b[?25l  Downloading https://files.pythonhosted.org/packages/c0/c5/7fea8e7a71cd026b30ed3c40e4c5ea13a173e28f8855da17e25271e8f545/pyemd-0.5.1.tar.gz (91kB)\n",
      "\u001b[K    100% |################################| 92kB 39.7MB/s ta 0:00:01\n",
      "\u001b[?25hRequirement already satisfied: requests>=2.10.0 in /usr/local/lib/python3.6/dist-packages (from textacy->ktext) (2.18.4)\n",
      "Collecting python-levenshtein>=0.12.0 (from textacy->ktext)\n",
      "\u001b[?25l  Downloading https://files.pythonhosted.org/packages/42/a9/d1785c85ebf9b7dfacd08938dd028209c34a0ea3b1bcdb895208bd40a67d/python-Levenshtein-0.12.0.tar.gz (48kB)\n",
      "\u001b[K    100% |################################| 51kB 25.7MB/s ta 0:00:01\n",
      "\u001b[?25hCollecting unidecode>=0.04.19 (from textacy->ktext)\n",
      "\u001b[?25l  Downloading https://files.pythonhosted.org/packages/59/ef/67085e30e8bbcdd76e2f0a4ad8151c13a2c5bce77c85f8cad6e1f16fb141/Unidecode-1.0.22-py2.py3-none-any.whl (235kB)\n",
      "\u001b[K    100% |################################| 235kB 37.5MB/s ta 0:00:01\n",
      "\u001b[?25hCollecting pyphen>=0.9.4 (from textacy->ktext)\n",
      "\u001b[?25l  Downloading https://files.pythonhosted.org/packages/15/82/08a3629dce8d1f3d91db843bb36d4d7db6b6269d5067259613a0d5c8a9db/Pyphen-0.9.5-py2.py3-none-any.whl (3.0MB)\n",
      "\u001b[K    100% |################################| 3.0MB 15.1MB/s ta 0:00:01\n",
      "\u001b[?25hCollecting spacy>=2.0.0 (from textacy->ktext)\n",
      "\u001b[?25l  Downloading https://files.pythonhosted.org/packages/24/de/ac14cd453c98656d6738a5669f96a4ac7f668493d5e6b78227ac933c5fd4/spacy-2.0.12.tar.gz (22.0MB)\n",
      "\u001b[K    100% |################################| 22.0MB 2.3MB/s eta 0:00:01\n",
      "\u001b[?25hCollecting cytoolz>=0.8.0 (from textacy->ktext)\n",
      "\u001b[?25l  Downloading https://files.pythonhosted.org/packages/36/f4/9728ba01ccb2f55df9a5af029b48ba0aaca1081bbd7823ea2ee223ba7a42/cytoolz-0.9.0.1.tar.gz (443kB)\n",
      "\u001b[K    100% |################################| 450kB 42.2MB/s eta 0:00:01\n",
      "\u001b[?25hCollecting tqdm>=4.11.1 (from textacy->ktext)\n",
      "\u001b[?25l  Downloading https://files.pythonhosted.org/packages/c7/e0/52b2faaef4fd87f86eb8a8f1afa2cd6eb11146822033e29c04ac48ada32c/tqdm-4.25.0-py2.py3-none-any.whl (43kB)\n",
      "\u001b[K    100% |################################| 51kB 33.1MB/s ta 0:00:01\n",
      "\u001b[?25hCollecting ijson>=2.3 (from textacy->ktext)\n",
      "  Downloading https://files.pythonhosted.org/packages/7f/e9/8508c5f4987ba238a2b169e582c1f70a47272b22a2f1fb06b9318201bb9e/ijson-2.3-py2.py3-none-any.whl\n",
      "Requirement already satisfied: scikit-learn>=0.17.0 in /usr/local/lib/python3.6/dist-packages (from textacy->ktext) (0.19.1)\n",
      "Collecting cachetools>=2.0.0 (from textacy->ktext)\n",
      "  Downloading https://files.pythonhosted.org/packages/0a/58/cbee863250b31d80f47401d04f34038db6766f95dea1cc909ea099c7e571/cachetools-2.1.0-py2.py3-none-any.whl\n",
      "Collecting ftfy<5.0.0,>=4.2.0 (from textacy->ktext)\n",
      "\u001b[?25l  Downloading https://files.pythonhosted.org/packages/21/5d/9385540977b00df1f3a0c0f07b7e6c15b5e7a3109d7f6ae78a0a764dab22/ftfy-4.4.3.tar.gz (50kB)\n",
      "\u001b[K    100% |################################| 51kB 26.1MB/s ta 0:00:01\n",
      "\u001b[?25hRequirement already satisfied: networkx>=1.11 in /usr/local/lib/python3.6/dist-packages (from textacy->ktext) (2.1)\n",
      "Requirement already satisfied: h5py in /usr/local/lib/python3.6/dist-packages (from keras->ktext) (2.7.1)\n",
      "Requirement already satisfied: idna<2.7,>=2.5 in /usr/local/lib/python3.6/dist-packages (from requests>=2.10.0->textacy->ktext) (2.6)\n",
      "Requirement already satisfied: chardet<3.1.0,>=3.0.2 in /usr/local/lib/python3.6/dist-packages (from requests>=2.10.0->textacy->ktext) (3.0.4)\n",
      "Requirement already satisfied: certifi>=2017.4.17 in /usr/local/lib/python3.6/dist-packages (from requests>=2.10.0->textacy->ktext) (2018.4.16)\n",
      "Requirement already satisfied: urllib3<1.23,>=1.21.1 in /usr/local/lib/python3.6/dist-packages (from requests>=2.10.0->textacy->ktext) (1.22)\n",
      "Requirement already satisfied: setuptools in /usr/local/lib/python3.6/dist-packages (from python-levenshtein>=0.12.0->textacy->ktext) (39.1.0)\n",
      "Collecting murmurhash<0.29,>=0.28 (from spacy>=2.0.0->textacy->ktext)\n",
      "  Downloading https://files.pythonhosted.org/packages/5e/31/c8c1ecafa44db30579c8c457ac7a0f819e8b1dbc3e58308394fff5ff9ba7/murmurhash-0.28.0.tar.gz\n",
      "Collecting cymem<1.32,>=1.30 (from spacy>=2.0.0->textacy->ktext)\n"
     ]
    },
    {
     "name": "stdout",
     "output_type": "stream",
     "text": [
      "  Downloading https://files.pythonhosted.org/packages/f8/9e/273fbea507de99166c11cd0cb3fde1ac01b5bc724d9a407a2f927ede91a1/cymem-1.31.2.tar.gz\n",
      "Collecting preshed<2.0.0,>=1.0.0 (from spacy>=2.0.0->textacy->ktext)\n",
      "\u001b[?25l  Downloading https://files.pythonhosted.org/packages/be/fc/09684555ce0ee7086675e6be698e4efeb6d9b315fd5aa96bed347572282b/preshed-1.0.1.tar.gz (112kB)\n",
      "\u001b[K    100% |################################| 122kB 44.0MB/s ta 0:00:01\n",
      "\u001b[?25hCollecting thinc<6.11.0,>=6.10.3 (from spacy>=2.0.0->textacy->ktext)\n",
      "\u001b[?25l  Downloading https://files.pythonhosted.org/packages/94/b1/47a88072d0a38b3594c0a638a62f9ef7c742b8b8a87f7b105f7ed720b14b/thinc-6.10.3.tar.gz (1.2MB)\n",
      "\u001b[K    100% |################################| 1.2MB 21.7MB/s ta 0:00:01\n",
      "\u001b[?25hCollecting plac<1.0.0,>=0.9.6 (from spacy>=2.0.0->textacy->ktext)\n",
      "  Downloading https://files.pythonhosted.org/packages/9e/9b/62c60d2f5bc135d2aa1d8c8a86aaf84edb719a59c7f11a4316259e61a298/plac-0.9.6-py2.py3-none-any.whl\n",
      "Collecting ujson>=1.35 (from spacy>=2.0.0->textacy->ktext)\n",
      "\u001b[?25l  Downloading https://files.pythonhosted.org/packages/16/c4/79f3409bc710559015464e5f49b9879430d8f87498ecdc335899732e5377/ujson-1.35.tar.gz (192kB)\n",
      "\u001b[K    100% |################################| 194kB 49.0MB/s ta 0:00:01\n",
      "\u001b[?25hCollecting regex==2017.4.5 (from spacy>=2.0.0->textacy->ktext)\n",
      "\u001b[?25l  Downloading https://files.pythonhosted.org/packages/36/62/c0c0d762ffd4ffaf39f372eb8561b8d491a11ace5a7884610424a8b40f95/regex-2017.04.05.tar.gz (601kB)\n",
      "\u001b[K    100% |################################| 604kB 31.2MB/s ta 0:00:01\n",
      "\u001b[?25hCollecting toolz>=0.8.0 (from cytoolz>=0.8.0->textacy->ktext)\n",
      "\u001b[?25l  Downloading https://files.pythonhosted.org/packages/14/d0/a73c15bbeda3d2e7b381a36afb0d9cd770a9f4adc5d1532691013ba881db/toolz-0.9.0.tar.gz (45kB)\n",
      "\u001b[K    100% |################################| 51kB 31.1MB/s ta 0:00:01\n",
      "\u001b[?25hRequirement already satisfied: html5lib in /usr/local/lib/python3.6/dist-packages (from ftfy<5.0.0,>=4.2.0->textacy->ktext) (0.9999999)\n",
      "Requirement already satisfied: wcwidth in /usr/local/lib/python3.6/dist-packages (from ftfy<5.0.0,>=4.2.0->textacy->ktext) (0.1.7)\n",
      "Requirement already satisfied: decorator>=4.1.0 in /usr/local/lib/python3.6/dist-packages (from networkx>=1.11->textacy->ktext) (4.3.0)\n",
      "Collecting wrapt<1.11.0,>=1.10.0 (from thinc<6.11.0,>=6.10.3->spacy>=2.0.0->textacy->ktext)\n",
      "  Downloading https://files.pythonhosted.org/packages/a0/47/66897906448185fcb77fc3c2b1bc20ed0ecca81a0f2f88eda3fc5a34fc3d/wrapt-1.10.11.tar.gz\n",
      "Building wheels for collected packages: ktext, pathos, ppft, dill, pox, multiprocess, pyemd, python-levenshtein, spacy, cytoolz, ftfy, murmurhash, cymem, preshed, thinc, ujson, regex, toolz, wrapt\n",
      "  Running setup.py bdist_wheel for ktext ... \u001b[?25ldone\n",
      "\u001b[?25h  Stored in directory: /root/.cache/pip/wheels/d8/6e/20/7af144cfd34839158e8e7b50b62133e32bf44822976f27ae75\n",
      "  Running setup.py bdist_wheel for pathos ... \u001b[?25ldone\n",
      "\u001b[?25h  Stored in directory: /root/.cache/pip/wheels/12/6b/3f/c9d2272bcd06caaf166988b27f72b7b08ab34ef211c8cbc4db\n",
      "  Running setup.py bdist_wheel for ppft ... \u001b[?25ldone\n",
      "\u001b[?25h  Stored in directory: /root/.cache/pip/wheels/6f/25/0d/a2099d51db6f2a7c6019599bd3b62795da3bf76a6a4eb0e615\n",
      "  Running setup.py bdist_wheel for dill ... \u001b[?25ldone\n",
      "\u001b[?25h  Stored in directory: /root/.cache/pip/wheels/e2/5d/17/f87cb7751896ac629b435a8696f83ee75b11029f5d6f6bda72\n",
      "  Running setup.py bdist_wheel for pox ... \u001b[?25ldone\n",
      "\u001b[?25h  Stored in directory: /root/.cache/pip/wheels/16/f0/d1/d618f2d966cb9b219a87ef3eca40e369ef51462eb18ba9e8c5\n",
      "  Running setup.py bdist_wheel for multiprocess ... \u001b[?25ldone\n",
      "\u001b[?25h  Stored in directory: /root/.cache/pip/wheels/8b/36/e5/96614ab62baf927e9bc06889ea794a8e87552b84bb6bf65e3e\n",
      "  Running setup.py bdist_wheel for pyemd ... \u001b[?25ldone\n",
      "\u001b[?25h  Stored in directory: /root/.cache/pip/wheels/e4/ba/b0/1f4178a35c916b22fc51dc56f278125d4b8cfb0592e5f0cc24\n",
      "  Running setup.py bdist_wheel for python-levenshtein ... \u001b[?25ldone\n",
      "\u001b[?25h  Stored in directory: /root/.cache/pip/wheels/de/c2/93/660fd5f7559049268ad2dc6d81c4e39e9e36518766eaf7e342\n",
      "  Running setup.py bdist_wheel for spacy ... \u001b[?25ldone\n",
      "\u001b[?25h  Stored in directory: /root/.cache/pip/wheels/60/0b/bb/7c2e28db574dbb2358176934eddd32a1c5f838ba0bc23eaaab\n",
      "  Running setup.py bdist_wheel for cytoolz ... \u001b[?25ldone\n",
      "\u001b[?25h  Stored in directory: /root/.cache/pip/wheels/88/f3/11/9817b001e59ab04889e8cffcbd9087e2e2155b9ebecfc8dd38\n",
      "  Running setup.py bdist_wheel for ftfy ... \u001b[?25ldone\n",
      "\u001b[?25h  Stored in directory: /root/.cache/pip/wheels/37/54/00/d320239bfc8aad1455314f302dd82a75253fc585e17b81704e\n",
      "  Running setup.py bdist_wheel for murmurhash ... \u001b[?25ldone\n",
      "\u001b[?25h  Stored in directory: /root/.cache/pip/wheels/b8/94/a4/f69f8664cdc1098603df44771b7fec5fd1b3d8364cdd83f512\n",
      "  Running setup.py bdist_wheel for cymem ... \u001b[?25ldone\n",
      "\u001b[?25h  Stored in directory: /root/.cache/pip/wheels/55/8d/4a/f6328252aa2aaec0b1cb906fd96a1566d77f0f67701071ad13\n",
      "  Running setup.py bdist_wheel for preshed ... \u001b[?25ldone\n",
      "\u001b[?25h  Stored in directory: /root/.cache/pip/wheels/ca/e5/8b/73706d7232da301838e0bc564367a2f7b2fc8f834228fc8a4b\n",
      "  Running setup.py bdist_wheel for thinc ... \u001b[?25ldone\n",
      "\u001b[?25h  Stored in directory: /root/.cache/pip/wheels/db/bc/e1/9b321b6b203288cf636a56e668ed5700076af4ed66062278ca\n",
      "  Running setup.py bdist_wheel for ujson ... \u001b[?25ldone\n",
      "\u001b[?25h  Stored in directory: /root/.cache/pip/wheels/28/77/e4/0311145b9c2e2f01470e744855131f9e34d6919687550f87d1\n",
      "  Running setup.py bdist_wheel for regex ... \u001b[?25ldone\n",
      "\u001b[?25h  Stored in directory: /root/.cache/pip/wheels/75/07/38/3c16b529d50cb4e0cd3dbc7b75cece8a09c132692c74450b01\n",
      "  Running setup.py bdist_wheel for toolz ... \u001b[?25ldone\n",
      "\u001b[?25h  Stored in directory: /root/.cache/pip/wheels/f4/0c/f6/ce6b2d1aa459ee97cc3c0f82236302bd62d89c86c700219463\n",
      "  Running setup.py bdist_wheel for wrapt ... \u001b[?25ldone\n",
      "\u001b[?25h  Stored in directory: /root/.cache/pip/wheels/48/5d/04/22361a593e70d23b1f7746d932802efe1f0e523376a74f321e\n",
      "Successfully built ktext pathos ppft dill pox multiprocess pyemd python-levenshtein spacy cytoolz ftfy murmurhash cymem preshed thinc ujson regex toolz wrapt\n",
      "Installing collected packages: ppft, dill, pox, multiprocess, pathos, msgpack, msgpack-numpy, dask, pyarrow, more-itertools, pyemd, python-levenshtein, unidecode, pyphen, murmurhash, cymem, preshed, toolz, cytoolz, wrapt, plac, tqdm, thinc, ujson, regex, spacy, ijson, cachetools, ftfy, textacy, ktext\n",
      "Successfully installed cachetools-2.1.0 cymem-1.31.2 cytoolz-0.9.0.1 dask-0.19.0 dill-0.2.8.2 ftfy-4.4.3 ijson-2.3 ktext-0.33 more-itertools-4.3.0 msgpack-0.5.6 msgpack-numpy-0.4.3.1 multiprocess-0.70.6.1 murmurhash-0.28.0 pathos-0.2.2.1 plac-0.9.6 pox-0.2.4 ppft-1.6.4.8 preshed-1.0.1 pyarrow-0.10.0 pyemd-0.5.1 pyphen-0.9.5 python-levenshtein-0.12.0 regex-2017.4.5 spacy-2.0.12 textacy-0.6.2 thinc-6.10.3 toolz-0.9.0 tqdm-4.25.0 ujson-1.35 unidecode-1.0.22 wrapt-1.10.11\n",
      "\u001b[33mYou are using pip version 10.0.1, however version 18.0 is available.\n",
      "You should consider upgrading via the 'pip install --upgrade pip' command.\u001b[0m\n",
      "Reading package lists... Done\n",
      "Building dependency tree       \n",
      "Reading state information... Done\n",
      "E: Unable to locate package python-pydot\n",
      "E: Unable to locate package python-pydot-ng\n",
      "Check with Python 2\n",
      "/bin/sh: 1: python2: not found\n",
      "Check with Python 3\n",
      "Traceback (most recent call last):\n",
      "  File \"<string>\", line 1, in <module>\n",
      "ModuleNotFoundError: No module named 'pydot'\n",
      "pip 10.0.1 from /usr/local/lib/python3.6/dist-packages/pip (python 3.6)\n",
      "dot - graphviz version 2.38.0 (20140413.2041)\n",
      "Collecting pydot\n",
      "\u001b[?25l  Downloading https://files.pythonhosted.org/packages/c3/f1/e61d6dfe6c1768ed2529761a68f70939e2569da043e9f15a8d84bf56cadf/pydot-1.2.4.tar.gz (132kB)\n",
      "\u001b[K    100% |################################| 133kB 6.1MB/s ta 0:00:01\n",
      "\u001b[?25hCollecting pydot-ng\n",
      "  Downloading https://files.pythonhosted.org/packages/de/64/86b0502c3644190c0b9fed0e378ee18f31b1f0262bdead1eb9ac1d404529/pydot_ng-1.0.0.tar.gz\n",
      "Requirement already satisfied: pyparsing>=2.1.4 in /usr/local/lib/python3.6/dist-packages (from pydot) (2.2.0)\n",
      "Building wheels for collected packages: pydot, pydot-ng\n",
      "  Running setup.py bdist_wheel for pydot ... \u001b[?25ldone\n",
      "\u001b[?25h  Stored in directory: /root/.cache/pip/wheels/6a/a5/14/25541ebcdeaf97a37b6d05c7ff15f5bd20f5e91b99d313e5b4\n"
     ]
    },
    {
     "name": "stdout",
     "output_type": "stream",
     "text": [
      "  Running setup.py bdist_wheel for pydot-ng ... \u001b[?25ldone\n",
      "\u001b[?25h  Stored in directory: /root/.cache/pip/wheels/ef/d1/b6/e2b937c79d99d49b7db9233832a425c7e6b787486f5831b302\n",
      "Successfully built pydot pydot-ng\n",
      "Installing collected packages: pydot, pydot-ng\n",
      "Successfully installed pydot-1.2.4 pydot-ng-1.0.0\n",
      "\u001b[33mYou are using pip version 10.0.1, however version 18.0 is available.\n",
      "You should consider upgrading via the 'pip install --upgrade pip' command.\u001b[0m\n",
      "Check again with Python 3\n"
     ]
    }
   ],
   "source": [
    "!pip install ktext\n",
    "!apt install python-pydot python-pydot-ng graphviz\n",
    "# Unfortunately the installed packages tie to Python 2 instead of Python 3\n",
    "!echo \"Check with Python 2\"\n",
    "!python2 -c \"import pydot\"\n",
    "!echo \"Check with Python 3\"\n",
    "!python -c \"import pydot\"\n",
    "!pip -V\n",
    "!dot -V\n",
    "!pip install pydot pydot-ng\n",
    "!echo \"Check again with Python 3\"\n",
    "!python -c \"import pydot\""
   ]
  },
  {
   "cell_type": "code",
   "execution_count": null,
   "metadata": {
    "colab": {},
    "colab_type": "code",
    "id": "JVbwKtedCklk"
   },
   "outputs": [],
   "source": [
    "# Restart runtime to allow Jupyter to know the changes above\n",
    "import os\n",
    "os._exit(0)"
   ]
  },
  {
   "cell_type": "code",
   "execution_count": 1,
   "metadata": {
    "colab": {
     "base_uri": "https://localhost:8080/",
     "height": 34
    },
    "colab_type": "code",
    "id": "iwae_RvN1C-S",
    "outputId": "32228728-1596-4167-bc89-1a4a85e34d17"
   },
   "outputs": [
    {
     "name": "stderr",
     "output_type": "stream",
     "text": [
      "/usr/local/lib/python3.6/dist-packages/h5py/__init__.py:36: FutureWarning: Conversion of the second argument of issubdtype from `float` to `np.floating` is deprecated. In future, it will be treated as `np.float64 == np.dtype(float).type`.\n",
      "  from ._conv import register_converters as _register_converters\n",
      "Using TensorFlow backend.\n"
     ]
    }
   ],
   "source": [
    "import os, string, re\n",
    "\n",
    "from keras.models import Model\n",
    "from keras.layers import Input, LSTM, GRU, Dense, Embedding, Bidirectional, BatchNormalization\n",
    "from keras import optimizers, regularizers\n",
    "from keras.utils import plot_model\n",
    "\n",
    "from ktext.preprocess import processor\n",
    "import matplotlib.pyplot as plt\n",
    "import numpy as np"
   ]
  },
  {
   "cell_type": "code",
   "execution_count": 125,
   "metadata": {
    "colab": {},
    "colab_type": "code",
    "id": "cWvE6Dvl1C-X"
   },
   "outputs": [],
   "source": [
    "batch_size = 1200 # Batch size for training.\n",
    "epochs = 50  # Number of epochs to train for.\n",
    "latent_dim = 200  # Latent dimensionality of the encoding space.\n",
    "num_samples = 50000  # Number of samples to train on."
   ]
  },
  {
   "cell_type": "code",
   "execution_count": 3,
   "metadata": {
    "colab": {
     "base_uri": "https://localhost:8080/",
     "height": 34
    },
    "colab_type": "code",
    "id": "2LzrZKP36oPH",
    "outputId": "236284ca-7622-4afc-c830-c83c3b03ed2c"
   },
   "outputs": [
    {
     "name": "stdout",
     "output_type": "stream",
     "text": [
      "datasets  storage  text2summary_colab.ipynb\r\n"
     ]
    }
   ],
   "source": [
    "!ls\n",
    "#!rm -rf cnn*"
   ]
  },
  {
   "cell_type": "code",
   "execution_count": 4,
   "metadata": {
    "colab": {
     "base_uri": "https://localhost:8080/",
     "height": 204
    },
    "colab_type": "code",
    "id": "HAYOT5Em1TB0",
    "outputId": "af61abe9-09e9-4cc5-d1d1-294c863a11f1"
   },
   "outputs": [
    {
     "name": "stdout",
     "output_type": "stream",
     "text": [
      "--2018-08-31 12:30:05--  https://f001.backblazeb2.com/file/blazer/cnn.tgz\n",
      "Resolving f001.backblazeb2.com (f001.backblazeb2.com)... 162.244.62.199\n",
      "Connecting to f001.backblazeb2.com (f001.backblazeb2.com)|162.244.62.199|:443... connected.\n",
      "HTTP request sent, awaiting response... 200 \n",
      "Length: 217447312 (207M) [application/gzip]\n",
      "Saving to: 'cnn.tgz'\n",
      "\n",
      "cnn.tgz             100%[===================>] 207.37M  8.95MB/s    in 23s     \n",
      "\n",
      "2018-08-31 12:30:29 (9.12 MB/s) - 'cnn.tgz' saved [217447312/217447312]\n",
      "\n"
     ]
    }
   ],
   "source": [
    "!wget https://f001.backblazeb2.com/file/blazer/cnn.tgz"
   ]
  },
  {
   "cell_type": "code",
   "execution_count": 5,
   "metadata": {
    "colab": {},
    "colab_type": "code",
    "id": "EkWLUunl4l9T"
   },
   "outputs": [],
   "source": [
    "!tar -xf cnn.tgz"
   ]
  },
  {
   "cell_type": "code",
   "execution_count": 6,
   "metadata": {
    "colab": {},
    "colab_type": "code",
    "id": "yoJXYTJh1C-a"
   },
   "outputs": [],
   "source": [
    "dataset_path = \"./cnn/questions\""
   ]
  },
  {
   "cell_type": "code",
   "execution_count": 8,
   "metadata": {
    "colab": {
     "base_uri": "https://localhost:8080/",
     "height": 34
    },
    "colab_type": "code",
    "id": "vdJBeh0z1C-c",
    "outputId": "fbac8e61-5da9-42bf-8cb3-3c70d20fa3d0"
   },
   "outputs": [
    {
     "name": "stdout",
     "output_type": "stream",
     "text": [
      "380299\r\n"
     ]
    }
   ],
   "source": [
    "# Count how many files in training folder\n",
    "!ls -l ./cnn/questions/training/ | grep -v ^l | wc -l"
   ]
  },
  {
   "cell_type": "code",
   "execution_count": 9,
   "metadata": {
    "colab": {},
    "colab_type": "code",
    "id": "-spQms-51C-h"
   },
   "outputs": [],
   "source": [
    "def get_huge_dataset_list(path, limit=0):\n",
    "    \"\"\"\n",
    "    Generator to help go through huge number of files under a path.\n",
    "    By default, it generates all filenames.\n",
    "    Set limit with any value > 0 to generate a limited number of filenames.  \n",
    "    \"\"\"\n",
    "    count = 0\n",
    "    for file in os.listdir(path): \n",
    "        yield file\n",
    "        count = count + 1\n",
    "        if count == limit and limit > 0:\n",
    "            break"
   ]
  },
  {
   "cell_type": "code",
   "execution_count": 145,
   "metadata": {
    "colab": {
     "base_uri": "https://localhost:8080/",
     "height": 102
    },
    "colab_type": "code",
    "id": "7ZWrJSYN1C-j",
    "outputId": "aa3d6644-1db7-45e6-d752-6765d23e4937"
   },
   "outputs": [
    {
     "name": "stdout",
     "output_type": "stream",
     "text": [
      "Number of samples: 50000\n",
      "Number of unique input tokens: 47357\n",
      "Number of unique output tokens: 18820\n",
      "Max sequence length for inputs: 3264\n",
      "Max sequence length for outputs: 207\n"
     ]
    }
   ],
   "source": [
    "training_data_path = \"{}/training\".format(dataset_path)\n",
    "\n",
    "# Vectorize the data.\n",
    "input_texts = []\n",
    "target_texts = []\n",
    "input_words = set()\n",
    "target_words = set()\n",
    "\n",
    "for filename in get_huge_dataset_list(path=training_data_path, limit=num_samples):\n",
    "    file = open(\"{}/{}\".format(training_data_path, filename), \"r\", encoding=\"utf8\")\n",
    "    lines = file.readlines()\n",
    "    \n",
    "    input_alltext = lines[2].split('.')\n",
    "    input_text = ''.join(input_alltext[1:10]) # 2nd - 10th lines\n",
    "    input_text = input_text.replace('@entity', '')\n",
    "    input_text = input_text.replace('\\'s', '')\n",
    "    input_text = input_text.replace('\\'m', '')\n",
    "    input_text = input_text.replace('\\'d', '')\n",
    "    input_text = re.sub(re.compile('[{}]'.format(string.punctuation)), '', input_text)\n",
    "    input_text = re.sub(re.compile('[{}]'.format(string.digits)), '', input_text)\n",
    "    input_text = re.sub(re.compile('\\s+'), ' ', input_text)\n",
    "    # input_text = re.sub(re.compile(\"\\s+'\"), \"'\", input_text)\n",
    "    \n",
    "    \n",
    "    target_text = lines[4].strip() # Remove \\n\n",
    "    target_text = target_text.replace('@entity', '')\n",
    "    target_text = target_text.replace('\\'s', '')\n",
    "    target_text = target_text.replace('\\'m', '')\n",
    "    target_text = target_text.replace('\\'d', '')\n",
    "    target_text = target_text.replace('@placeholder', '')\n",
    "    target_text = re.sub(re.compile('[{}]'.format(string.punctuation)), '', target_text)\n",
    "    target_text = re.sub(re.compile('[{}]'.format(string.digits)), '', target_text)\n",
    "    target_text = re.sub(re.compile('\\s+'), ' ', target_text)\n",
    "    # target_text = re.sub(re.compile(\"\\s+'\"), \"'\", target_text)\n",
    "    # print(input_text, '-->', target_text)\n",
    "    \n",
    "    input_texts.append(input_text)\n",
    "    target_texts.append(target_text)\n",
    "    for word in input_text.split():\n",
    "        if word not in input_words:\n",
    "            input_words.add(word)\n",
    "    for word in target_text.split():\n",
    "        if word not in target_words:\n",
    "            target_words.add(word)\n",
    "\n",
    "input_words = sorted(list(input_words))\n",
    "target_words = sorted(list(target_words))\n",
    "\n",
    "num_encoder_tokens = len(input_words)\n",
    "num_decoder_tokens = len(target_words)\n",
    "max_encoder_seq_length = max([len(txt) for txt in input_texts])\n",
    "max_decoder_seq_length = max([len(txt) for txt in target_texts])\n",
    "\n",
    "print('Number of samples:', len(input_texts))\n",
    "print('Number of unique input tokens:', num_encoder_tokens)\n",
    "print('Number of unique output tokens:', num_decoder_tokens)\n",
    "print('Max sequence length for inputs:', max_encoder_seq_length)\n",
    "print('Max sequence length for outputs:', max_decoder_seq_length)"
   ]
  },
  {
   "cell_type": "code",
   "execution_count": 153,
   "metadata": {
    "colab": {
     "base_uri": "https://localhost:8080/",
     "height": 85
    },
    "colab_type": "code",
    "id": "UUgwBJyb9vyF",
    "outputId": "6ae48eb3-6ec9-4daa-a161-fd3020184d83"
   },
   "outputs": [
    {
     "name": "stdout",
     "output_type": "stream",
     "text": [
      "Max vocab size (Unique number of words allowed) for input 11839\n",
      "Max sequence length for input 204\n",
      "Max vocab size (Unique number of words allowed) for output 4705\n",
      "Max sequence length for output 26\n"
     ]
    }
   ],
   "source": [
    "# See https://github.com/hamelsmu/ktext/blob/master/ktext/preprocess.py\n",
    "ratio = 0.25\n",
    "body_keep_n = round(ratio * num_encoder_tokens)\n",
    "body_padding_maxlen = round(ratio/4 * max_encoder_seq_length)\n",
    "summary_keep_n = round(ratio * num_decoder_tokens)\n",
    "summary_padding_maxlen = round(ratio/2 * max_decoder_seq_length)\n",
    "\n",
    "print('Max vocab size (Unique number of words allowed) for input', body_keep_n)\n",
    "print('Max sequence length for input', body_padding_maxlen)\n",
    "print('Max vocab size (Unique number of words allowed) for output', summary_keep_n)\n",
    "print('Max sequence length for output', summary_padding_maxlen)"
   ]
  },
  {
   "cell_type": "code",
   "execution_count": 154,
   "metadata": {
    "colab": {
     "base_uri": "https://localhost:8080/",
     "height": 153
    },
    "colab_type": "code",
    "id": "hJtagauj5Dan",
    "outputId": "339feaa0-a9e6-407f-b677-aaf99c69d2f5"
   },
   "outputs": [
    {
     "name": "stderr",
     "output_type": "stream",
     "text": [
      "WARNING:root:....tokenizing data\n",
      "WARNING:root:(1/2) done. 52 sec\n",
      "WARNING:root:....building corpus\n",
      "WARNING:root:(2/2) done. 4 sec\n",
      "WARNING:root:Finished parsing 50,000 documents.\n",
      "WARNING:root:...fit is finished, beginning transform\n",
      "WARNING:root:...padding data\n",
      "WARNING:root:done. 2 sec\n"
     ]
    }
   ],
   "source": [
    "body_pp = processor(keep_n=body_keep_n, padding_maxlen=body_padding_maxlen)\n",
    "train_body_vecs = body_pp.fit_transform(input_texts)"
   ]
  },
  {
   "cell_type": "code",
   "execution_count": 155,
   "metadata": {
    "colab": {
     "base_uri": "https://localhost:8080/",
     "height": 326
    },
    "colab_type": "code",
    "id": "QgVKsPGK5Xp0",
    "outputId": "230e4fa9-7001-4e63-fe31-a0a9ac96a0d7"
   },
   "outputs": [
    {
     "name": "stdout",
     "output_type": "stream",
     "text": [
      "original string:\n",
      "  in scenes calmly mirroring the events of november crowds thronged through the center of the once divided city joining chancellor in a symbolic reenactment of the first crossing of the breached it was worth fighting for said after crossing the bridge on the checkpoint where people first poured across the frontier the first former to lead the reunified country was accompanied by leader and expresident as she kicked off events to celebrate the demise of the iconic structure and remember the darker sides of the communist regimes behind it it is not only a day of celebration for it is a day of celebration for the whole of said was joined by and president in a series of events including solemn tributes and boisterous music concerts at the climax a line of giant dominoes was knocked over along a kilometer strip where the once stood representing the domino effect the structure collapse had in ending communism across memorials were to be held for the lives lost of those who tried to eascape through the barrier that cut in two many in the so called death strip at the heart of the fortifications read more in our special report thousands of people gathered at the the symbol of reunified which once stood at the center of the between and \n",
      "after pre-processing:\n",
      " [    6  2409  7567     1     2   656     4   469  2538     1   119     2\n",
      "   533     4     2   338  3280   166  2155  4119     6     5  4478     1\n",
      "     4     2    52  2957     4     2  8061    15    11  1159   547     9\n",
      "    13    36  2957     2  2435    10     2  4519    97    54    52  5466\n",
      "   278     2  8512     2    52   126     3   280     2     1    98    11\n",
      "  3237    21   274     7     1    17    47  3312   114   656     3  2074\n",
      "     2  6502     4     2  2498  2844     7  1302     2 10550  1001     4\n",
      "     2  3333  6946   273    15    15    12    31   100     5   108     4\n",
      "  2810     9    15    12     5   108     4  2810     9     2   995     4\n",
      "    13    11   823    21     7    66     6     5   426     4   656   141\n",
      "  9036  6454     7     1   627  4712    19     2  8234     5   460     4\n",
      "  1509     1    11  2723    67   377     5  4323  4286    97     2   338\n",
      "  1683  2819     2     1  1190     2  2844  2820    37     6  1797 11416\n",
      "   278     1    33     3    27   289     9     2   551   371     4   116\n",
      "    29   635     3     1   119     2  5144     8   774     6    49   103\n",
      "     6     2    74   155   195  4286    19     2   727     4     2     1\n",
      "   348    45     6    85   530   200   487     4    54  1534    19     2]\n",
      "vector length: 204\n"
     ]
    }
   ],
   "source": [
    "print('original string:\\n', input_texts[4])\n",
    "print('after pre-processing:\\n', train_body_vecs[4])\n",
    "print('vector length:', len(train_body_vecs[4]))"
   ]
  },
  {
   "cell_type": "code",
   "execution_count": 156,
   "metadata": {
    "colab": {
     "base_uri": "https://localhost:8080/",
     "height": 153
    },
    "colab_type": "code",
    "id": "-zecDd5n5gY7",
    "outputId": "5ecbc97d-131a-4a92-e558-12e7b6618e4e"
   },
   "outputs": [
    {
     "name": "stderr",
     "output_type": "stream",
     "text": [
      "WARNING:root:....tokenizing data\n",
      "WARNING:root:(1/2) done. 3 sec\n",
      "WARNING:root:....building corpus\n",
      "WARNING:root:(2/2) done. 0 sec\n",
      "WARNING:root:Finished parsing 50,000 documents.\n",
      "WARNING:root:...fit is finished, beginning transform\n",
      "WARNING:root:...padding data\n",
      "WARNING:root:done. 0 sec\n"
     ]
    }
   ],
   "source": [
    "summary_pp = processor(\n",
    "    append_indicators=True,\n",
    "    keep_n=summary_keep_n,\n",
    "    padding_maxlen=summary_padding_maxlen,\n",
    "    padding ='post')\n",
    "\n",
    "# process the summary data\n",
    "train_summary_vecs = summary_pp.fit_transform(target_texts)"
   ]
  },
  {
   "cell_type": "code",
   "execution_count": 157,
   "metadata": {
    "colab": {
     "base_uri": "https://localhost:8080/",
     "height": 102
    },
    "colab_type": "code",
    "id": "wN0c1g4X5m_i",
    "outputId": "e6515931-4587-4fd9-906e-0fbbca2a1543"
   },
   "outputs": [
    {
     "name": "stdout",
     "output_type": "stream",
     "text": [
      "original string:\n",
      "  leads ceremonies to mark years since collapse of \n",
      "after pre-processing:\n",
      " [   2  783    1    6 1767   68   78 2056    7    3    0    0    0    0\n",
      "    0    0    0    0    0    0    0    0    0    0    0    0]\n",
      "vector length: 26\n"
     ]
    }
   ],
   "source": [
    "print('original string:\\n', target_texts[4])\n",
    "print('after pre-processing:\\n', train_summary_vecs[4])\n",
    "print('vector length:', len(train_summary_vecs[4]))"
   ]
  },
  {
   "cell_type": "code",
   "execution_count": 158,
   "metadata": {
    "colab": {},
    "colab_type": "code",
    "id": "EcAFF1E05-UP"
   },
   "outputs": [],
   "source": [
    "import dill as dpickle\n",
    "import numpy as np\n",
    "\n",
    "# Save the preprocessor\n",
    "with open('body_pp.dpkl', 'wb') as f:\n",
    "    dpickle.dump(body_pp, f)\n",
    "\n",
    "with open('summary_pp.dpkl', 'wb') as f:\n",
    "    dpickle.dump(summary_pp, f)\n",
    "\n",
    "# Save the processed data\n",
    "np.save('train_summary_vecs.npy', train_summary_vecs)\n",
    "np.save('train_body_vecs.npy', train_body_vecs)"
   ]
  },
  {
   "cell_type": "code",
   "execution_count": 17,
   "metadata": {
    "colab": {
     "base_uri": "https://localhost:8080/",
     "height": 204
    },
    "colab_type": "code",
    "id": "MeWJU2rO2qxL",
    "outputId": "dab8f9f5-d9c1-4c15-9b74-ec3639c3d8e3"
   },
   "outputs": [
    {
     "name": "stdout",
     "output_type": "stream",
     "text": [
      "--2018-08-31 12:37:48--  https://raw.githubusercontent.com/hamelsmu/Seq2Seq_Tutorial/master/notebooks/seq2seq_utils.py\n",
      "Resolving raw.githubusercontent.com (raw.githubusercontent.com)... 151.101.0.133, 151.101.64.133, 151.101.128.133, ...\n",
      "Connecting to raw.githubusercontent.com (raw.githubusercontent.com)|151.101.0.133|:443... connected.\n",
      "HTTP request sent, awaiting response... 200 OK\n",
      "Length: 15129 (15K) [text/plain]\n",
      "Saving to: 'seq2seq_utils.py'\n",
      "\n",
      "seq2seq_utils.py    100%[===================>]  14.77K  --.-KB/s    in 0.007s  \n",
      "\n",
      "2018-08-31 12:37:48 (2.17 MB/s) - 'seq2seq_utils.py' saved [15129/15129]\n",
      "\n"
     ]
    }
   ],
   "source": [
    "!wget https://raw.githubusercontent.com/hamelsmu/Seq2Seq_Tutorial/master/notebooks/seq2seq_utils.py"
   ]
  },
  {
   "cell_type": "code",
   "execution_count": 18,
   "metadata": {
    "colab": {
     "base_uri": "https://localhost:8080/",
     "height": 68
    },
    "colab_type": "code",
    "id": "0f5a074r6RmY",
    "outputId": "6b72fa60-9e1a-46b1-c437-91a846a1beea"
   },
   "outputs": [
    {
     "name": "stdout",
     "output_type": "stream",
     "text": [
      "Collecting annoy\n",
      "\u001b[?25l  Downloading https://files.pythonhosted.org/packages/7a/9e/dbfa8bad4015b23b1c2e29f1dc6178c3eec4e004a654ea7b38ba618998ec/annoy-1.13.0.tar.gz (634kB)\n",
      "\u001b[K    100% |################################| 634kB 8.5MB/s ta 0:00:011\n",
      "\u001b[?25hBuilding wheels for collected packages: annoy\n",
      "  Running setup.py bdist_wheel for annoy ... \u001b[?25ldone\n",
      "\u001b[?25h  Stored in directory: /root/.cache/pip/wheels/96/af/26/f26df0a684b1e41ad8c56a13fc13e7a0a15a8a1a8b1cb0111a\n",
      "Successfully built annoy\n",
      "Installing collected packages: annoy\n",
      "Successfully installed annoy-1.13.0\n",
      "\u001b[33mYou are using pip version 10.0.1, however version 18.0 is available.\n",
      "You should consider upgrading via the 'pip install --upgrade pip' command.\u001b[0m\n",
      "Collecting nltk\n",
      "\u001b[?25l  Downloading https://files.pythonhosted.org/packages/50/09/3b1755d528ad9156ee7243d52aa5cd2b809ef053a0f31b53d92853dd653a/nltk-3.3.0.zip (1.4MB)\n",
      "\u001b[K    100% |################################| 1.4MB 10.4MB/s ta 0:00:01\n",
      "\u001b[?25hRequirement already satisfied: six in /usr/local/lib/python3.6/dist-packages (from nltk) (1.11.0)\n",
      "Building wheels for collected packages: nltk\n",
      "  Running setup.py bdist_wheel for nltk ... \u001b[?25ldone\n",
      "\u001b[?25h  Stored in directory: /root/.cache/pip/wheels/d1/ab/40/3bceea46922767e42986aef7606a600538ca80de6062dc266c\n",
      "Successfully built nltk\n",
      "Installing collected packages: nltk\n",
      "Successfully installed nltk-3.3\n",
      "\u001b[33mYou are using pip version 10.0.1, however version 18.0 is available.\n",
      "You should consider upgrading via the 'pip install --upgrade pip' command.\u001b[0m\n"
     ]
    }
   ],
   "source": [
    "!pip install annoy\n",
    "!pip install nltk\n",
    "from seq2seq_utils import load_decoder_inputs, load_encoder_inputs, load_text_processor"
   ]
  },
  {
   "cell_type": "code",
   "execution_count": 159,
   "metadata": {
    "colab": {
     "base_uri": "https://localhost:8080/",
     "height": 68
    },
    "colab_type": "code",
    "id": "xIYCAuHK6kHc",
    "outputId": "be0638c0-f4ca-458f-ae19-c0f65e0794c2"
   },
   "outputs": [
    {
     "name": "stdout",
     "output_type": "stream",
     "text": [
      "Shape of encoder input: (50000, 204)\n",
      "Shape of decoder input: (50000, 25)\n",
      "Shape of decoder target: (50000, 25)\n"
     ]
    }
   ],
   "source": [
    "encoder_input_data, doc_length = load_encoder_inputs('train_body_vecs.npy')\n",
    "decoder_input_data, decoder_target_data = load_decoder_inputs('train_summary_vecs.npy')"
   ]
  },
  {
   "cell_type": "code",
   "execution_count": 160,
   "metadata": {
    "colab": {
     "base_uri": "https://localhost:8080/",
     "height": 51
    },
    "colab_type": "code",
    "id": "J7cy9baG6nfM",
    "outputId": "5f3efc6b-073c-42ae-87ca-a709b44d1d6e"
   },
   "outputs": [
    {
     "name": "stdout",
     "output_type": "stream",
     "text": [
      "Size of vocabulary for body_pp.dpkl: 11,841\n",
      "Size of vocabulary for summary_pp.dpkl: 4,707\n"
     ]
    }
   ],
   "source": [
    "num_encoder_tokens, body_pp = load_text_processor('body_pp.dpkl')\n",
    "num_decoder_tokens, summary_pp = load_text_processor('summary_pp.dpkl')"
   ]
  },
  {
   "cell_type": "code",
   "execution_count": 161,
   "metadata": {
    "colab": {},
    "colab_type": "code",
    "id": "95yFvZAd1C-p"
   },
   "outputs": [],
   "source": [
    "encoder_inputs = Input(shape=(doc_length,), name='Encoder-Input')\n",
    "\n",
    "# Word embeding for encoder\n",
    "x = Embedding(num_encoder_tokens, latent_dim, name='Body-Word-Embedding', mask_zero=False)(encoder_inputs)\n",
    "x = BatchNormalization(name='Encoder-Batchnorm-1')(x)\n",
    "\n",
    "# Intermediate GRU layer\n",
    "x = GRU(\n",
    "    latent_dim,\n",
    "    name='Encoder-Intermediate-GRU',\n",
    "    return_sequences=True,\n",
    "    kernel_regularizer=regularizers.l2(0.01),\n",
    "    recurrent_regularizer=regularizers.l2(0.01))(x)\n",
    "\n",
    "x = BatchNormalization(name='Encoder-Batchnorm-2')(x)\n",
    "\n",
    "# We just need the hidden state of last time step\n",
    "_, state_h = GRU(\n",
    "    latent_dim,\n",
    "    return_state=True,\n",
    "    name='Encoder-Last-GRU',\n",
    "    kernel_regularizer=regularizers.l2(0.01),\n",
    "    recurrent_regularizer=regularizers.l2(0.01))(x)\n",
    "\n",
    "# Encapsulate the encoder as a separate entity so we can just \n",
    "#  encode without decoding if we want to.\n",
    "encoder_model = Model(inputs=encoder_inputs, outputs=state_h, name='Encoder-Model')\n",
    "\n",
    "seq2seq_encoder_out = encoder_model(encoder_inputs)"
   ]
  },
  {
   "cell_type": "code",
   "execution_count": 162,
   "metadata": {
    "colab": {},
    "colab_type": "code",
    "id": "O2ShC8Nw1C-s"
   },
   "outputs": [],
   "source": [
    "decoder_inputs = Input(shape=(None,), name='Decoder-Input')  # for teacher forcing\n",
    "\n",
    "# Word Embedding For Decoder\n",
    "dec_emb = Embedding(num_decoder_tokens, latent_dim, name='Decoder-Word-Embedding', mask_zero=False)(decoder_inputs)\n",
    "dec_bn = BatchNormalization(name='Decoder-Batchnorm-1')(dec_emb)\n",
    "\n",
    "# Set up the decoder, using `decoder_state_input` as initial state.\n",
    "decoder_gru = GRU(\n",
    "    latent_dim,\n",
    "    return_state=True,\n",
    "    return_sequences=True,\n",
    "    name='Decoder-GRU',\n",
    "    kernel_regularizer=regularizers.l2(0.01),\n",
    "    recurrent_regularizer=regularizers.l2(0.01))\n",
    "\n",
    "decoder_gru_output, _ = decoder_gru(dec_bn, initial_state=seq2seq_encoder_out)\n",
    "x = BatchNormalization(name='Decoder-Batchnorm-2')(decoder_gru_output)\n",
    "\n",
    "# Dense layer for prediction\n",
    "decoder_dense = Dense(num_decoder_tokens, activation='softmax', name='Final-Output-Dense')\n",
    "decoder_outputs = decoder_dense(x)"
   ]
  },
  {
   "cell_type": "code",
   "execution_count": 163,
   "metadata": {
    "colab": {
     "base_uri": "https://localhost:8080/",
     "height": 425
    },
    "colab_type": "code",
    "id": "qMCR7b401C-4",
    "outputId": "b0e91ef2-5efa-4edd-9a99-f36279ea6929"
   },
   "outputs": [
    {
     "name": "stdout",
     "output_type": "stream",
     "text": [
      "__________________________________________________________________________________________________\n",
      "Layer (type)                    Output Shape         Param #     Connected to                     \n",
      "==================================================================================================\n",
      "Decoder-Input (InputLayer)      (None, None)         0                                            \n",
      "__________________________________________________________________________________________________\n",
      "Decoder-Word-Embedding (Embeddi (None, None, 200)    941400      Decoder-Input[0][0]              \n",
      "__________________________________________________________________________________________________\n",
      "Encoder-Input (InputLayer)      (None, 204)          0                                            \n",
      "__________________________________________________________________________________________________\n",
      "Decoder-Batchnorm-1 (BatchNorma (None, None, 200)    800         Decoder-Word-Embedding[0][0]     \n",
      "__________________________________________________________________________________________________\n",
      "Encoder-Model (Model)           (None, 200)          2851000     Encoder-Input[0][0]              \n",
      "__________________________________________________________________________________________________\n",
      "Decoder-GRU (GRU)               [(None, None, 200),  240600      Decoder-Batchnorm-1[0][0]        \n",
      "                                                                 Encoder-Model[1][0]              \n",
      "__________________________________________________________________________________________________\n",
      "Decoder-Batchnorm-2 (BatchNorma (None, None, 200)    800         Decoder-GRU[0][0]                \n",
      "__________________________________________________________________________________________________\n",
      "Final-Output-Dense (Dense)      (None, None, 4707)   946107      Decoder-Batchnorm-2[0][0]        \n",
      "==================================================================================================\n",
      "Total params: 4,980,707\n",
      "Trainable params: 4,979,107\n",
      "Non-trainable params: 1,600\n",
      "__________________________________________________________________________________________________\n"
     ]
    }
   ],
   "source": [
    "# Define the model that will turn\n",
    "# `encoder_input_data` & `decoder_input_data` into `decoder_target_data`\n",
    "model = Model([encoder_inputs, decoder_inputs], decoder_outputs)\n",
    "\n",
    "# Run training\n",
    "# model.compile(optimizer='rmsprop', loss='categorical_crossentropy', metrics=['accuracy'])\n",
    "model.compile(optimizer=optimizers.Nadam(lr=0.001), loss='sparse_categorical_crossentropy')\n",
    "# model.compile(optimizer='rmsprop', loss='sparse_categorical_crossentropy')\n",
    "\n",
    "model.summary()"
   ]
  },
  {
   "cell_type": "code",
   "execution_count": 164,
   "metadata": {
    "colab": {
     "base_uri": "https://localhost:8080/",
     "height": 330
    },
    "colab_type": "code",
    "id": "ZvRUqHsdHo5V",
    "outputId": "a943700a-b494-4fee-c0df-b7b766a9fbb6"
   },
   "outputs": [
    {
     "data": {
      "image/png": "[encoded data removed]",
      "text/plain": [
       "<IPython.core.display.Image object>"
      ]
     },
     "execution_count": 164,
     "metadata": {
      "image/png": {
       "height": 313,
       "width": 622
      }
     },
     "output_type": "execute_result"
    }
   ],
   "source": [
    "plot_model(model, show_shapes=True, show_layer_names=True, to_file='model.png')\n",
    "from IPython.display import Image\n",
    "Image(retina=True, filename='model.png')"
   ]
  },
  {
   "cell_type": "code",
   "execution_count": 165,
   "metadata": {
    "colab": {
     "base_uri": "https://localhost:8080/",
     "height": 1788
    },
    "colab_type": "code",
    "id": "zMwURzwp1C-8",
    "outputId": "8d029fa7-c0e5-4937-d661-07a421dee8df"
   },
   "outputs": [
    {
     "name": "stdout",
     "output_type": "stream",
     "text": [
      "Train on 47500 samples, validate on 2500 samples\n",
      "Epoch 1/50\n",
      "47500/47500 [==============================] - 30s 631us/step - loss: 12.9008 - val_loss: 6.2138\n",
      "Epoch 2/50\n",
      "47500/47500 [==============================] - 24s 500us/step - loss: 4.2937 - val_loss: 3.5934\n",
      "Epoch 3/50\n",
      "47500/47500 [==============================] - 24s 505us/step - loss: 2.6085 - val_loss: 3.8721\n",
      "Epoch 4/50\n",
      "47500/47500 [==============================] - 25s 519us/step - loss: 2.1909 - val_loss: 3.6731\n",
      "Epoch 5/50\n",
      "47500/47500 [==============================] - 24s 500us/step - loss: 2.0494 - val_loss: 3.3555\n",
      "Epoch 6/50\n",
      "47500/47500 [==============================] - 24s 499us/step - loss: 1.9785 - val_loss: 3.8711\n",
      "Epoch 7/50\n",
      "47500/47500 [==============================] - 24s 497us/step - loss: 1.9258 - val_loss: 3.3539\n",
      "Epoch 8/50\n",
      "47500/47500 [==============================] - 24s 501us/step - loss: 1.8839 - val_loss: 3.0782\n",
      "Epoch 9/50\n",
      "47500/47500 [==============================] - 24s 501us/step - loss: 1.8483 - val_loss: 2.2878\n",
      "Epoch 10/50\n",
      "47500/47500 [==============================] - 24s 498us/step - loss: 1.8181 - val_loss: 2.3594\n",
      "Epoch 11/50\n",
      "47500/47500 [==============================] - 24s 502us/step - loss: 1.9250 - val_loss: 3.3438\n",
      "Epoch 12/50\n",
      "47500/47500 [==============================] - 24s 499us/step - loss: 1.8344 - val_loss: 2.0911\n",
      "Epoch 13/50\n",
      "47500/47500 [==============================] - 24s 502us/step - loss: 1.7767 - val_loss: 2.0555\n",
      "Epoch 14/50\n",
      "47500/47500 [==============================] - 24s 501us/step - loss: 1.7392 - val_loss: 2.1473\n",
      "Epoch 15/50\n",
      "47500/47500 [==============================] - 24s 502us/step - loss: 1.7115 - val_loss: 2.0670\n",
      "Epoch 16/50\n",
      "47500/47500 [==============================] - 24s 499us/step - loss: 1.6868 - val_loss: 2.0459\n",
      "Epoch 17/50\n",
      "47500/47500 [==============================] - 24s 515us/step - loss: 1.6666 - val_loss: 2.0471\n",
      "Epoch 18/50\n",
      "47500/47500 [==============================] - 24s 503us/step - loss: 1.6470 - val_loss: 2.0981\n",
      "Epoch 19/50\n",
      "47500/47500 [==============================] - 24s 503us/step - loss: 1.6281 - val_loss: 2.0585\n",
      "Epoch 20/50\n",
      "47500/47500 [==============================] - 24s 502us/step - loss: 1.6084 - val_loss: 2.0757\n",
      "Epoch 21/50\n",
      "47500/47500 [==============================] - 24s 505us/step - loss: 1.5947 - val_loss: 2.0832\n",
      "Epoch 22/50\n",
      "47500/47500 [==============================] - 24s 501us/step - loss: 1.5758 - val_loss: 2.0862\n",
      "Epoch 23/50\n",
      "47500/47500 [==============================] - 24s 501us/step - loss: 1.5596 - val_loss: 2.1285\n",
      "Epoch 24/50\n",
      "47500/47500 [==============================] - 24s 499us/step - loss: 1.5458 - val_loss: 2.1217\n",
      "Epoch 25/50\n",
      "47500/47500 [==============================] - 23s 495us/step - loss: 1.5290 - val_loss: 2.1325\n",
      "Epoch 26/50\n",
      "47500/47500 [==============================] - 24s 503us/step - loss: 1.5135 - val_loss: 2.1587\n",
      "Epoch 27/50\n",
      "47500/47500 [==============================] - 24s 498us/step - loss: 1.4984 - val_loss: 2.1650\n",
      "Epoch 28/50\n",
      "47500/47500 [==============================] - 24s 502us/step - loss: 1.4843 - val_loss: 2.1667\n",
      "Epoch 29/50\n",
      "47500/47500 [==============================] - 24s 501us/step - loss: 1.4683 - val_loss: 2.1878\n",
      "Epoch 30/50\n",
      "47500/47500 [==============================] - 24s 514us/step - loss: 1.4528 - val_loss: 2.2036\n",
      "Epoch 31/50\n",
      "47500/47500 [==============================] - 24s 506us/step - loss: 1.4358 - val_loss: 2.2157\n",
      "Epoch 32/50\n",
      "47500/47500 [==============================] - 24s 502us/step - loss: 1.4183 - val_loss: 2.2126\n",
      "Epoch 33/50\n",
      "47500/47500 [==============================] - 24s 502us/step - loss: 1.4023 - val_loss: 2.2204\n",
      "Epoch 34/50\n",
      "47500/47500 [==============================] - 24s 502us/step - loss: 1.3842 - val_loss: 2.2209\n",
      "Epoch 35/50\n",
      "47500/47500 [==============================] - 24s 505us/step - loss: 1.3674 - val_loss: 2.2601\n",
      "Epoch 36/50\n",
      "47500/47500 [==============================] - 24s 502us/step - loss: 1.3526 - val_loss: 2.2890\n",
      "Epoch 37/50\n",
      "47500/47500 [==============================] - 24s 502us/step - loss: 1.3353 - val_loss: 2.3269\n",
      "Epoch 38/50\n",
      "47500/47500 [==============================] - 24s 503us/step - loss: 1.3193 - val_loss: 2.3689\n",
      "Epoch 39/50\n",
      "47500/47500 [==============================] - 24s 501us/step - loss: 1.3001 - val_loss: 2.3488\n",
      "Epoch 40/50\n",
      "47500/47500 [==============================] - 24s 501us/step - loss: 1.2835 - val_loss: 2.3605\n",
      "Epoch 41/50\n",
      "47500/47500 [==============================] - 24s 506us/step - loss: 1.2687 - val_loss: 2.3650\n",
      "Epoch 42/50\n",
      "47500/47500 [==============================] - 24s 503us/step - loss: 1.2505 - val_loss: 2.3924\n",
      "Epoch 43/50\n",
      "47500/47500 [==============================] - 24s 514us/step - loss: 1.2340 - val_loss: 2.4216\n",
      "Epoch 44/50\n",
      "47500/47500 [==============================] - 24s 506us/step - loss: 1.2183 - val_loss: 2.4424\n",
      "Epoch 45/50\n",
      "47500/47500 [==============================] - 24s 496us/step - loss: 1.2013 - val_loss: 2.4384\n",
      "Epoch 46/50\n",
      "47500/47500 [==============================] - 24s 504us/step - loss: 1.1836 - val_loss: 2.4722\n",
      "Epoch 47/50\n",
      "47500/47500 [==============================] - 24s 505us/step - loss: 1.1708 - val_loss: 2.4591\n",
      "Epoch 48/50\n",
      "47500/47500 [==============================] - 24s 503us/step - loss: 1.1532 - val_loss: 2.5304\n",
      "Epoch 49/50\n",
      "47500/47500 [==============================] - 24s 502us/step - loss: 1.1396 - val_loss: 2.5184\n",
      "Epoch 50/50\n",
      "47500/47500 [==============================] - 24s 502us/step - loss: 1.1214 - val_loss: 2.5958\n"
     ]
    },
    {
     "name": "stderr",
     "output_type": "stream",
     "text": [
      "/usr/local/lib/python3.6/dist-packages/keras/engine/topology.py:2379: UserWarning: Layer Decoder-GRU was passed non-serializable keyword arguments: {'initial_state': [<tf.Tensor 'Encoder-Model_8/Encoder-Last-GRU/while/Exit_2:0' shape=(?, 200) dtype=float32>]}. They will not be included in the serialized model (and thus will be missing at deserialization time).\n",
      "  str(node.arguments) + '. They will not be included '\n"
     ]
    }
   ],
   "source": [
    "# history = model.fit([encoder_input_data, decoder_input_data], decoder_target_data,\n",
    "#           batch_size=batch_size,\n",
    "#          epochs=epochs,\n",
    "#          validation_split=0.2)\n",
    "\n",
    "history = model.fit([encoder_input_data, decoder_input_data], np.expand_dims(decoder_target_data, -1),\n",
    "                    batch_size=batch_size,\n",
    "                    epochs=epochs,\n",
    "                    validation_split=0.05)\n",
    "# Save model\n",
    "model.save('dmqa_s2s.h5')"
   ]
  },
  {
   "cell_type": "code",
   "execution_count": 166,
   "metadata": {
    "colab": {
     "base_uri": "https://localhost:8080/",
     "height": 376
    },
    "colab_type": "code",
    "id": "dXfIHzVhuE_W",
    "outputId": "1741eb18-4e6e-4438-8e84-7b47967209d9"
   },
   "outputs": [
    {
     "data": {
      "image/png": "[encoded data removed]",
      "text/plain": [
       "<Figure size 432x288 with 1 Axes>"
      ]
     },
     "metadata": {},
     "output_type": "display_data"
    }
   ],
   "source": [
    "# Plot loss\n",
    "plt.plot(history.history['loss'])\n",
    "plt.plot(history.history['val_loss'])\n",
    "plt.title('model loss')\n",
    "plt.ylabel('loss')\n",
    "plt.xlabel('epoch')\n",
    "plt.legend(['train', 'test'], loc='upper left')\n",
    "plt.show()"
   ]
  },
  {
   "cell_type": "code",
   "execution_count": 167,
   "metadata": {
    "colab": {},
    "colab_type": "code",
    "id": "OjHDheS1SSXC"
   },
   "outputs": [],
   "source": [
    "from seq2seq_utils import Seq2Seq_Inference\n",
    "seq2seq_inf = Seq2Seq_Inference(encoder_preprocessor=body_pp,\n",
    "                                 decoder_preprocessor=summary_pp,\n",
    "                                 seq2seq_model=model)"
   ]
  },
  {
   "cell_type": "code",
   "execution_count": 168,
   "metadata": {
    "colab": {
     "base_uri": "https://localhost:8080/",
     "height": 1057
    },
    "colab_type": "code",
    "id": "PJHo0fICwgSC",
    "outputId": "f9a325f7-b86d-4617-843a-4264457832aa"
   },
   "outputs": [
    {
     "name": "stdout",
     "output_type": "stream",
     "text": [
      "Original txt:  who lost his ability to speak after a bout with cancer was given the award for blogging and using social media tools to get his writing voice back and the internet have allowed to continue the work we came to know and love him for said who presented award i ca nt remember the last time i went to see a movie without seeing what thought of it first founder year old was given the award website which lets people chat face to face with strangers has been praised by some for breaking down social and national cliques online others have called it a den for pornography executive director of the said story shows the equalizing power of the i think it incredible that this far into the something can be created by a year old kid in and literally all of the major global media is talking about it three days later he said it really shows the kind of impact you can have on the internet \n",
      "Summary: never making debut for album\n",
      "----\n",
      "Original txt:  it brought glory to the embattled space program and inspired beliefs that anything was possible moon landing hoax theorists point to the rippling flag as evidence the landings were faked it arguably the greatest technological feat of the th century and to some it was all a lie forty years after and set foot on the moon a small cult of conspiracy theorists maintains the historic event and the five subsequent apollo moon landings were staged these people believe fabricated the landings to trump their rivals and fulfill president goal of ferrying humans safely to and from the moon by the end of the s i do know the moon landings were faked said crusading filmmaker whose aggressive interview tactics once provoked to punch him in the face i bet my life on it may seem crazy but he has company \n",
      "Summary: on the third case of descent to remain in\n",
      "----\n",
      "Original txt:  her brother suffers from depression alcoholism unresolved grief and chronic homelessness she says no one disputes has been arrested dozens and dozens of times mostly for misdemeanors such as public intoxication says her brother lives in survival mode and nearly died after an altercation with a bouncer left him with a crushed sternum and broken foot she says recently was featured in a fundraising video created by for the group provides shelter meals and other services daily to more than homeless people in is one of their regular clients the video features getting a makeover that included a haircut with highlights beard grooming and a beautiful new suit the video received more than million views in just a few weeks and helped raise more than for says his hope was for the makeover to provide a start down a new path \n",
      "Summary: also published a survey shows one of the best friend says\n",
      "----\n",
      "Original txt:  nobody knows how the happened to fall out of the on monday st lt media officer for the at told on tuesday the aircraft had taken part in a training exercise at the airport in emergency management director told affiliate a crew member noticed the missing about half a mile past reported said in are always supposed to be secured either by seat belts or tether cables he did nt know how the missing was secured lt col with said the tiltrotor cargo bay door remains open during training operations according to \n",
      "Summary: home reports from testing near\n",
      "----\n",
      "Original txt:  in scenes calmly mirroring the events of november crowds thronged through the center of the once divided city joining chancellor in a symbolic reenactment of the first crossing of the breached it was worth fighting for said after crossing the bridge on the checkpoint where people first poured across the frontier the first former to lead the reunified country was accompanied by leader and expresident as she kicked off events to celebrate the demise of the iconic structure and remember the darker sides of the communist regimes behind it it is not only a day of celebration for it is a day of celebration for the whole of said was joined by and president in a series of events including solemn tributes and boisterous music concerts at the climax a line of giant dominoes was knocked over along a kilometer strip where the once stood representing the domino effect the structure collapse had in ending communism across memorials were to be held for the lives lost of those who tried to eascape through the barrier that cut in two many in the so called death strip at the heart of the fortifications read more in our special report thousands of people gathered at the the symbol of reunified which once stood at the center of the between and \n",
      "Summary: could be reached by end of snow\n",
      "----\n",
      "Original txt:  republicans needed seats to gain the majority and are projected to gain seats the biggest shift in more than a half century is poised to lead the agenda which promises to cut spending repeal parts of president health care program and push targeted tax cuts for small businesses which they say will lead to job growth is known as a fiscal conservative who made spending reforms a key point of his campaign for leadership with may voters angered by what they see as out of control spending has reminded reporters that he never requested any earmarks for his district he has also been a powerful fundraiser for his party which has solidified his position as the magnitude of the takeover was becoming clear an emotional told supporters across the country right now we are witnessing a repudiation of a repudiation of \n",
      "Summary: defends the world no laws in\n",
      "----\n",
      "Original txt:  is this a way for friends to handle their differences the talks with present enormous challenges for one of those challenges is to move through the process without damaging existing alliances or weakening already diminished standing in the prime minister has warned that he thinks the is falling into an trap the says it is moving cautiously in the interest of peace and security the disagreement is tearing at the alliance both and the should find a different way to make their cases they have moved perilously close to impugning each other character instead of debating the merits of their positions strongly objects to the proposal that would ease sanctions in exchange for a slowdown of nuclear program during negotiations for a permanent agreement he is used to wielding sharp words \n",
      "Summary: on on saturday at pm et on sunday\n",
      "----\n",
      "Original txt:  the investigation also involves at least five and possibly military personnel who were working with the ahead of president trip to the they are accused of bringing prostitutes to their hotel wednesday night and the chairman of the said monday his personnel let the boss down with their conduct the agents and officers involved range in experience from relative newcomers to nearly year veterans and all have been interviewed at least once two government officials with knowledge of the probe told their security clearances have been pulled while an investigation is under way and could be reinstated if they are cleared the officials said most if not all arrived in on wednesday two days before and went out for drinks in several groups after arrival the officials said the agency which is responsible for presidential security has briefed key congressional leaders on the investigation so far rep the chairman of the told that he believed prostitutes were brought back to the hotel over the weekend told that one of the women refused to leave a hotel room thursday morning \n",
      "Summary: due another court date for latest shooting in\n",
      "----\n",
      "Original txt:  well maybe that and a little dill basically i just making potato salad i have nt decided what kind yet wrote on his campaign page in a campaign that went online over the holiday weekend goal was to raise only he tempered any expectations if there were any it might not be that good it my first potato salad despite his own lukewarm forecast potential investors were not shaken by recipe indecisiveness and lack of experience by sunday evening had raised nearly by backers \n",
      "Summary: invited to points to buy\n",
      "----\n",
      "Original txt:  with a neat ginger beard and a rifle slung over his shoulder he addresses fellow back in from his new home in northern in a minute video released by the he explains that he took his name from because he hit the head of injustice and he is the one who terrorized the as they terrorized us since they did not stop doing this we will treat them in kind he asks his audience are you happy with your life in going to the nightclubs and having female friends according to a translation of the video by then appeals for to join the struggle led by leader addressing he says the entire world is against you because you are inviting to establish the therefore we love you and we stand beside you the message was recorded last november there is no record of since then \n"
     ]
    },
    {
     "name": "stdout",
     "output_type": "stream",
     "text": [
      "Summary: deaths are suspected or confirmed in\n",
      "----\n",
      "Original txt:  missed out on a second successive tournament after a aggregate defeat to which has a population of trailing following last week first leg loss in the fell further behind when striker gave a surprise lead in the capital of equalized for before half time but despite boasting the attacking talent of former and striker the home team were unable to find the back of the net a late goal from year old debutant who is a graduate of the finally put ahead in the match but it was nt enough to prevent reaching their also through to january team tournament in is who beat to advance on away goals to reach the tournament for the first time in year lost the first leg but progressed courtesy of goals from and in the tournament won by in is ordinarily held every two years but it is being staged in to avoid the competition clashing with future and the overturned a first leg deficit to beat on away goals former striker scored two headed goals inside the first eight minutes to give his country a win \n",
      "Summary: top scorer at\n",
      "----\n",
      "Original txt:  has lived in exile since when his father was overthrown during the the moment of truth has arrived said at the people of need to know who stands with them has lived in exile since when his father was overthrown during the under the shah regime saw nationalization of its oil and a strong movement toward modernization still his secular programs and recognition of cost him the support of the country clergy sparking clashes with the religious right and others who resented his views the son now lives in the with his family where he spends much of his time talking about the regime in during his remarks he broke into tears when he spoke of bullets piercing our beloved a woman killed saturday by police at a protest in whose death has become a rallying cry among demonstrators in watch one woman account of clashes with security forces » the regime he said was a sinking that might not survive the demands for democracy and human rights reverberating through the country \n",
      "Summary: there was no longer have been reported ill\n",
      "----\n",
      "Original txt:  has been asked to form a new cabinet adviser told the educated linguist is now the president of in will replace who has led a caretaker government since accepted his resignation in april decision to step down was viewed as a step toward the possible establishment of a unity government between the two main factions and according to a profile on the website has been president of the university since august he is also the secretary general of the and head of the stock exchange he received a doctorate in applied linguistics from the in and a master from the in he graduated from the in with a degree in the language \n",
      "Summary: replaces who have fallen for someone who gone says\n",
      "----\n",
      "Original txt:  president office issued a brief statement saying had submitted his resignation and would be replaced by representative at the the resignation comes a day after a diplomat helped an opposition senator from flee into the senator had been living in the embassy in for more than a year after seeking asylum there said he was targeted by officials after accusing members of president government of drug trafficking and corruption over the weekend diplomat helped flee to the border during a hour drive in a diplomatic car that action sparked outrage from the government in a television interview said he had acted without consulting with the according to the press statement will be appointed to head up mission at the dozens killed in prison fire brawl \n",
      "Summary: resigns in diplomatic battle with leaders\n",
      "----\n",
      "Original txt:  and play with their sons and but like many that dream was interrupted when they almost lost their home to foreclosure a firefighter and her husband a police sergeant had always dreamed about owning a spacious house in the suburbs when they began their search the young family was living in a south neighborhood they grew concerned and decided to move when crime in the area started to pick up although they did nt think they could afford their dream home they started searching in an affluent area just south of the airport and across the street from the room estate owned by famed heavyweight boxer i ve always been looking in this subdivision but never thought we could afford a home here said after discussing their financials with a mortgage broker the family was presented with a deal and payments they could afford the interest only adjustable rate loan sounded good at the time \n",
      "Summary: with public view of the season\n",
      "----\n",
      "Original txt:  the four engine features a queen size bed gold bathroom fixtures a videotape system with four tvs and a stereo system with speakers according to an ad posted on an aviation sales website this week the tail section on the features trademark for and a color scheme personally chosen by the ad said the smaller was back up plane flown while was remodeled to suit tastes the ad said these planes represent the epitome of rock star luxury but if you buy them do nt expect to fly them they re both museum pieces said the man who bought them after death they ve not been flown since they were parked at the tourist entrance to mansion in ad does nt set a price but it he is looking for serious offers exwife tells fans to calm down over jets millions of fans have peered into the planes as part of the tour with getting a cut of the ticket proceeds but his agreement with has expired he looking for a buyer because his agreement with and negotiations to keep them at have failed leaving the jets future up in the air \n",
      "Summary: records at top box office\n",
      "----\n",
      "Original txt:  the former governor commencement speech short optimistic and apolitical came the day after he said he planned to release emails from his days in office he will also write an accompanying that he ll release next year preemptive approach is one of the clearest signs yet of how seriously he is considering a run for president and allows him to address potential areas of criticism before opposition researchers dig in on monday made no references to his own political future but did sound a number of optimistic notes and he told the new graduates not to fear failure he said graduates should nt be afraid to shake things up and that they should embrace a rapidly changing economy even when doing so is daunting feels that way you re not alone and in many ways that ok because that anxiety can be positive he said when you re thrown into new situations you do nt just challenge yourself \n",
      "Summary: all recorded six day in history of making pot legal\n",
      "----\n",
      "Original txt:  the international was widely criticized for saturday snub which came as they met face to face for the first time since he was given an eight game ban for racially abusing the at an earlier fixture between the two clubs in october manager called a disgrace while managing director was angered by his own player actions we are extremely disappointed did not shake hands with before yesterday game the player had told us beforehand that he would but then chose not to do so told the club official website it has been made absolutely clear to that his behavior was not acceptable he added who scored late goal in the defeat made his public apology later sunday on the club website i have spoken with the manager since the game at and i realize i got things wrong i ve not only let him down but also the club and what it stands for and i sorry i made a mistake and i regret what happened \n",
      "Summary: criticized by managing director after games\n",
      "----\n",
      "Original txt:  and the author description of the automaton construction a cascade of perfect movements with hundreds of brilliantly calibrated actions is an equally good way to describe achievement in making art that uses the most advanced of technology to sing a song of love to the movies from the very dawn of the medium for a lay audience the result is a haunting piquant melodrama about childhood dreams and yearnings enhanced with a pleasant survey course in early film history it made me cry without guilt for more advanced cinephiles the result is a cabinet of wonders in which each shot each experiment in perspective and indeed each scene in the story progression can be linked to what we already know about his work and his well known cinematic passions a niggler might note that every element is at times an eensy bit too perfectly meshed and worked over today i do nt feel like niggling is played with jolting melodramatic pathos and the genetic blessing of bottomless pale blue eyes by he is a sad young orphan who keeps the clocks running in a bustling s train station patrolled by a limping gendarme as hammed up by the character constitutes one of the movie few tonal dissonances \n"
     ]
    },
    {
     "name": "stdout",
     "output_type": "stream",
     "text": [
      "Summary: played role in practice for long time\n",
      "----\n",
      "Original txt:  announced his undersea exploration venture earlier this month and in a recent interview with he discussed the plans for his upcoming voyage to the bottom of the seabed there have been about people who have been into space but pretty well nobody has been down and explored the big trenches in the oceans said the founder of the business empire i am planning to go down in the trench it goes down further than is high about feet the airplane shaped sub is built from carbon fiber and titanium with a bubble like quartz viewing dome made to withstand over million kilograms of pressure according to the flying sub has overcome two big obstacles facing deep sea explorers extreme cold and pressures of over atmospheres about the same as elephants standing on a \n",
      "Summary: two diving gold medals at the table\n",
      "----\n"
     ]
    }
   ],
   "source": [
    "for txt in input_texts[:20]:\n",
    "    print(\"Original txt:\", txt)\n",
    "    emb, summ = seq2seq_inf.generate_issue_title(txt)\n",
    "    print(\"Summary:\", summ)\n",
    "    print(\"----\")\n",
    " "
   ]
  },
  {
   "cell_type": "markdown",
   "metadata": {},
   "source": [
    "### Test"
   ]
  },
  {
   "cell_type": "code",
   "execution_count": 175,
   "metadata": {
    "colab": {
     "base_uri": "https://localhost:8080/",
     "height": 34
    },
    "colab_type": "code",
    "id": "2c0WSwXg9had",
    "outputId": "74d52f99-0db3-4f3e-af0c-d03471008ae5"
   },
   "outputs": [
    {
     "data": {
      "text/plain": [
       "'another prominent lawmakers are named'"
      ]
     },
     "execution_count": 175,
     "metadata": {},
     "output_type": "execute_result"
    }
   ],
   "source": [
    "# Test with recent passages from CNN\n",
    "# https://edition.cnn.com/2018/08/31/us/california-carr-fire-contained/index.html\n",
    "txt = \"\"\"\n",
    "Northern California's deadly and monstrous Carr Fire, ignited last month after the rim of a trailer's flat tire scraped the asphalt, has been fully contained, state fire official said late Thursday.\n",
    "\"\"\"\n",
    "emb, summ = seq2seq_inf.generate_issue_title(txt)\n",
    "summ"
   ]
  },
  {
   "cell_type": "code",
   "execution_count": 176,
   "metadata": {
    "colab": {},
    "colab_type": "code",
    "id": "Z9SSZWL2LaUq"
   },
   "outputs": [
    {
     "data": {
      "text/plain": [
       "'and are held in for months after elections'"
      ]
     },
     "execution_count": 176,
     "metadata": {},
     "output_type": "execute_result"
    }
   ],
   "source": [
    "txt = \"\"\"\n",
    "The sparks from the seemingly ordinary July 23 incident on a road near Redding set off one of the most destructive wildfires in state history and killed eight people, including three fire personnel. It also destroyed more than 1,000 homes and consumed 229,651 acres, according to California fire officials said.\n",
    "\"\"\"\n",
    "emb, summ = seq2seq_inf.generate_issue_title(txt)\n",
    "summ"
   ]
  },
  {
   "cell_type": "code",
   "execution_count": null,
   "metadata": {},
   "outputs": [],
   "source": []
  }
 ],
 "metadata": {
  "accelerator": "GPU",
  "colab": {
   "collapsed_sections": [],
   "name": "text2summary_colab.ipynb",
   "provenance": [],
   "version": "0.3.2"
  },
  "kernelspec": {
   "display_name": "Python 3",
   "language": "python",
   "name": "python3"
  },
  "language_info": {
   "codemirror_mode": {
    "name": "ipython",
    "version": 3
   },
   "file_extension": ".py",
   "mimetype": "text/x-python",
   "name": "python",
   "nbconvert_exporter": "python",
   "pygments_lexer": "ipython3",
   "version": "3.6.3"
  }
 },
 "nbformat": 4,
 "nbformat_minor": 1
}
